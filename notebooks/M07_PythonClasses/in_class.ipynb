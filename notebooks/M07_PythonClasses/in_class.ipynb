{
 "cells": [
  {
   "cell_type": "markdown",
   "metadata": {},
   "source": [
    "# Metadata\n",
    "```yaml\n",
    "Course:   DS 5100\n",
    "Topic:    In Class\n",
    "Author:   Lionel Medal\n",
    "Date:     03/12/2024"
   ]
  },
  {
   "cell_type": "code",
   "execution_count": 3,
   "metadata": {},
   "outputs": [],
   "source": [
    "# Exercise 7.1\n",
    "# Define a class with the following features\n",
    "# a docstring that says \"Example for Exercise 7.1\"\n",
    "# a class attribute att1 of type string with default value \"foo\"\n",
    "# an __init__ function that takes one require argument att2 of type\n",
    "\n",
    "class MyClass():\n",
    "    \"\"\"Example for Exercise 7.1\"\"\"\n",
    "    att1 = \"foo\"\n",
    "    \n",
    "    def __init__(self, att2):\n",
    "        #self\n",
    "        self.att2 = att2"
   ]
  },
  {
   "cell_type": "code",
   "execution_count": 4,
   "metadata": {},
   "outputs": [
    {
     "data": {
      "text/plain": [
       "'foo'"
      ]
     },
     "execution_count": 4,
     "metadata": {},
     "output_type": "execute_result"
    }
   ],
   "source": [
    "# Exercise 7.2\n",
    "# Create an object instance of the previous class by passing the argument required by __init__\n",
    "# pass a short sentence for the string\n",
    "# use patter object.attribute to show the two att\n",
    "\n",
    "obj_1 = MyClass(\"Thus is not a pipe\")\n",
    "obj_1.att1"
   ]
  },
  {
   "cell_type": "code",
   "execution_count": 2,
   "metadata": {},
   "outputs": [
    {
     "data": {
      "image/png": "[encoded data removed]",
      "text/plain": [
       "<Figure size 432x288 with 1 Axes>"
      ]
     },
     "metadata": {
      "needs_background": "light"
     },
     "output_type": "display_data"
    }
   ],
   "source": [
    "# Exercise 7.3\n",
    "# Create a class called Student that contains a students grade for a given class\n",
    "\n",
    "import pandas as pd\n",
    "import matplotlib.pyplot as plt\n",
    "\n",
    "class Student:\n",
    "    def __init__(self, full_name, user_id):\n",
    "        self.full_name = full_name\n",
    "        self.user_id = user_id\n",
    "        self.grades = pd.Series(dtype='float')\n",
    "\n",
    "    def add_assignment(self, assignment_name, grade):\n",
    "        if isinstance(grade, (int, float)):  # Ensuring grade is a number\n",
    "            self.grades[assignment_name] = float(grade)\n",
    "        else:\n",
    "            print(\"Please enter a valid number for grade.\")\n",
    "\n",
    "    def plot_grades(self):\n",
    "        self.grades.plot(kind='bar', title=f\"{self.full_name} ({self.user_id})\")\n",
    "        plt.ylabel('Grades')\n",
    "        plt.show()\n",
    "\n",
    "# Example usage:\n",
    "# Create a student object\n",
    "student = Student('John Doe', 'JD123')\n",
    "\n",
    "# Add assignments and grades\n",
    "student.add_assignment('Assignment 1', 85.5)\n",
    "student.add_assignment('Assignment 2', 92.0)\n",
    "student.add_assignment('Midterm', 78.5)\n",
    "\n",
    "# Plot the student's grades\n",
    "student.plot_grades()"
   ]
  },
  {
   "cell_type": "code",
   "execution_count": 5,
   "metadata": {},
   "outputs": [
    {
     "data": {
      "image/png": "[encoded data removed]",
      "text/plain": [
       "<Figure size 432x288 with 1 Axes>"
      ]
     },
     "metadata": {
      "needs_background": "light"
     },
     "output_type": "display_data"
    }
   ],
   "source": [
    "# Exercise 7.3A\n",
    "# Create an instance of a student with four grades and plot the grades\n",
    "\n",
    "# Create an instance of the Student class\n",
    "student = Student('Alex Smith', 'AS101')\n",
    "\n",
    "# Add four homework grades\n",
    "student.add_assignment('HW01', 88.0)\n",
    "student.add_assignment('HW02', 92.5)\n",
    "student.add_assignment('HW03', 75.0)\n",
    "student.add_assignment('HW04', 83.0)\n",
    "\n",
    "# Plot the student's grades\n",
    "student.plot_grades()\n"
   ]
  },
  {
   "cell_type": "code",
   "execution_count": 6,
   "metadata": {},
   "outputs": [
    {
     "name": "stdout",
     "output_type": "stream",
     "text": [
      "There is enough disk space available.\n",
      "Disk space check: True\n"
     ]
    }
   ],
   "source": [
    "# Exercise 7.4\n",
    "# A fictitious global e-commerce and cloud computing company UVAWS offers cloud computing as a service with a range of server options. \n",
    "\n",
    "class V3:\n",
    "    def __init__(self, instance_size, num_vcpus, memory, disk_space):\n",
    "        self.instance_size = instance_size  # should be 'small', 'medium', or 'large'\n",
    "        self.num_vcpus = num_vcpus          # integer number of virtual CPUs\n",
    "        self.memory = memory                # integer representing GBs of memory\n",
    "        self.disk_space = disk_space        # float representing TBs of disk space\n",
    "\n",
    "    def add_disk_space(self, amt_to_add):\n",
    "        # This method adds disk space to the current disk space.\n",
    "        self.disk_space += amt_to_add\n",
    "\n",
    "    def has_enough_disk_space(self, amt_required):\n",
    "        # This method checks if the amount of disk space required is available.\n",
    "        if self.disk_space >= amt_required:\n",
    "            print(f\"There is enough disk space available.\")\n",
    "            return True\n",
    "        else:\n",
    "            print(f\"Not enough disk space available.\")\n",
    "            return False\n",
    "\n",
    "# Example of using the class\n",
    "v3_server = V3('medium', 4, 16, 1.0)  # Create a medium instance with 4 vCPUs, 16GB memory, and 1TB disk space\n",
    "v3_server.add_disk_space(0.5)  # Add an additional 0.5TB of disk space\n",
    "has_space = v3_server.has_enough_disk_space(1.5)  # Check if there is at least 1.5TB available\n",
    "print(f\"Disk space check: {has_space}\")\n"
   ]
  },
  {
   "cell_type": "code",
   "execution_count": 7,
   "metadata": {},
   "outputs": [
    {
     "name": "stdout",
     "output_type": "stream",
     "text": [
      "The updated disk space is 3.0 TB\n",
      "The instance does not have enough disk space for the request.\n"
     ]
    }
   ],
   "source": [
    "# Exercise 7.5\n",
    "# Instantiate a V3 server with the following attributes:\n",
    "\n",
    "class V3:\n",
    "    def __init__(self, instance_size, num_vcpus, memory, disk_space):\n",
    "        self.instance_size = instance_size  # should be 'small', 'medium', or 'large'\n",
    "        self.num_vcpus = num_vcpus          # integer number of virtual CPUs\n",
    "        self.memory = memory                # integer representing GBs of memory\n",
    "        self.disk_space = disk_space        # float representing TBs of disk space\n",
    "\n",
    "    def add_disk_space(self, amt_to_add):\n",
    "        self.disk_space += amt_to_add\n",
    "\n",
    "    def has_enough_disk_space(self, amt_required):\n",
    "        return self.disk_space >= amt_required\n",
    "\n",
    "# Instantiate a V3 object with the specified attributes\n",
    "v3_instance = V3('large', 32, 256, 1.0)\n",
    "\n",
    "# Add 2.0 TB disk space to the instance\n",
    "v3_instance.add_disk_space(2.0)\n",
    "\n",
    "# Display the updated disk space\n",
    "print(f\"The updated disk space is {v3_instance.disk_space} TB\")\n",
    "\n",
    "# Check if the instance has enough disk space for a request of 10.0 TB\n",
    "if v3_instance.has_enough_disk_space(10.0):\n",
    "    print(\"The instance has enough disk space for the request.\")\n",
    "else:\n",
    "    print(\"The instance does not have enough disk space for the request.\")"
   ]
  },
  {
   "cell_type": "code",
   "execution_count": null,
   "metadata": {},
   "outputs": [],
   "source": []
  }
 ],
 "metadata": {
  "kernelspec": {
   "display_name": "base",
   "language": "python",
   "name": "python3"
  },
  "language_info": {
   "codemirror_mode": {
    "name": "ipython",
    "version": 3
   },
   "file_extension": ".py",
   "mimetype": "text/x-python",
   "name": "python",
   "nbconvert_exporter": "python",
   "pygments_lexer": "ipython3",
   "version": "3.8.8"
  }
 },
 "nbformat": 4,
 "nbformat_minor": 2
}
