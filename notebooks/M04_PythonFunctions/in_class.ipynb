{
 "cells": [
  {
   "cell_type": "markdown",
   "metadata": {},
   "source": [
    "## In-class Lionel Medal\n",
    "### 02/13/24"
   ]
  },
  {
   "cell_type": "code",
   "execution_count": 2,
   "metadata": {},
   "outputs": [
    {
     "data": {
      "text/plain": [
       "True"
      ]
     },
     "execution_count": 2,
     "metadata": {},
     "output_type": "execute_result"
    }
   ],
   "source": [
    "# Exercise 4.1 \n",
    "def verify_string_length(text, val):\n",
    "    return len(text) == val \n",
    "\n",
    "verify_string_length(\"Hello\", 5) # True"
   ]
  },
  {
   "cell_type": "code",
   "execution_count": 3,
   "metadata": {},
   "outputs": [
    {
     "name": "stdout",
     "output_type": "stream",
     "text": [
      "1\n",
      "4\n",
      "9\n",
      "16\n",
      "25\n"
     ]
    }
   ],
   "source": [
    "# Exercise 4.2\n",
    "def square_args(*vars):\n",
    "    for var in vars:\n",
    "        print(var**2)\n",
    "    return None\n",
    "\n",
    "square_args(1, 2, 3, 4, 5)"
   ]
  },
  {
   "cell_type": "code",
   "execution_count": 5,
   "metadata": {},
   "outputs": [
    {
     "data": {
      "text/plain": [
       "'H3O'"
      ]
     },
     "execution_count": 5,
     "metadata": {},
     "output_type": "execute_result"
    }
   ],
   "source": [
    "# Exercise 4.3\n",
    "def word_shortener(long_word, min_length=5):\n",
    "    if not isinstance(long_word, str):\n",
    "        print(f\"{llong_word} is not a string\")\n",
    "        return False\n",
    "    elif len(long_word) < min_length:\n",
    "        print(f\"{long_word} is already shorter than {min_length} characters\")\n",
    "        return False\n",
    "    else:\n",
    "        first_letter = long_word[0].upper()\n",
    "        last_letter = long_word[-1].upper()\n",
    "        middle_number = len(long_word[1:-1])\n",
    "        new_word = first_letter + str(middle_number) + last_letter\n",
    "        return new_word\n",
    "\n",
    "word_shortener(\"Hello\", 5) # H3O"
   ]
  },
  {
   "cell_type": "code",
   "execution_count": 6,
   "metadata": {},
   "outputs": [],
   "source": [
    "# Exercise 4.6\n",
    "in_range = lambda x: x >= 10 and x <= 25"
   ]
  },
  {
   "cell_type": "code",
   "execution_count": 7,
   "metadata": {},
   "outputs": [
    {
     "data": {
      "text/plain": [
       "True"
      ]
     },
     "execution_count": 7,
     "metadata": {},
     "output_type": "execute_result"
    }
   ],
   "source": [
    "in_range(15) # True"
   ]
  },
  {
   "cell_type": "code",
   "execution_count": null,
   "metadata": {},
   "outputs": [],
   "source": []
  }
 ],
 "metadata": {
  "kernelspec": {
   "display_name": "base",
   "language": "python",
   "name": "python3"
  },
  "language_info": {
   "codemirror_mode": {
    "name": "ipython",
    "version": 3
   },
   "file_extension": ".py",
   "mimetype": "text/x-python",
   "name": "python",
   "nbconvert_exporter": "python",
   "pygments_lexer": "ipython3",
   "version": "3.8.8"
  }
 },
 "nbformat": 4,
 "nbformat_minor": 2
}
