{
 "cells": [
  {
   "cell_type": "markdown",
   "metadata": {},
   "source": [
    "## In Class 02/20/2024 - Lionel Medal"
   ]
  },
  {
   "cell_type": "code",
   "execution_count": 2,
   "metadata": {},
   "outputs": [
    {
     "name": "stdout",
     "output_type": "stream",
     "text": [
      "0.01899886131286621\n"
     ]
    }
   ],
   "source": [
    "# Exercise 5.1\n",
    "# Write a for loop t build a list of the numbers from 0 to 100000, where all odd numbers have a negative sign in front of them.\n",
    "# time the code using time.time() and print the result.\n",
    "\n",
    "import time\n",
    "\n",
    "start = time.time()\n",
    "lst = []\n",
    "for i in range(100001):\n",
    "    if i % 2 == 0:\n",
    "        lst.append(i)\n",
    "    else:\n",
    "        lst.append(-i)\n",
    "print(time.time() - start)\n",
    "# print(lst)\n"
   ]
  },
  {
   "cell_type": "code",
   "execution_count": 3,
   "metadata": {},
   "outputs": [
    {
     "name": "stdout",
     "output_type": "stream",
     "text": [
      "0.01000070571899414\n"
     ]
    }
   ],
   "source": [
    "# Exercise 5.2\n",
    "# Write a list comprehension that does the same thing as the code above.\n",
    "# time the code using time.time() and print the result.\n",
    "\n",
    "start = time.time()\n",
    "lst = [i if i % 2 == 0 else -i for i in range(100001)]\n",
    "print(time.time() - start)"
   ]
  },
  {
   "cell_type": "code",
   "execution_count": 7,
   "metadata": {},
   "outputs": [
    {
     "name": "stdout",
     "output_type": "stream",
     "text": [
      "3,1,6,3,6,2,6,1,2,6\n"
     ]
    }
   ],
   "source": [
    "# Exercise 5.3\n",
    "# Use numpy to generate 10 random integers ranging from 1 to 6 inclusive.\n",
    "# save the results in a list and then print the list as a comma-demlimitted string.\n",
    "\n",
    "import numpy as np\n",
    "\n",
    "lst = np.random.randint(1, 7, 10)\n",
    "print(','.join(lst.astype(str)))"
   ]
  },
  {
   "cell_type": "code",
   "execution_count": 9,
   "metadata": {},
   "outputs": [
    {
     "name": "stdout",
     "output_type": "stream",
     "text": [
      "<class 'int'>\n",
      "<class 'numpy.ndarray'>\n"
     ]
    }
   ],
   "source": [
    "# Exercise 5.4\n",
    "# uSE random.randomint() to generate a single random integer and print the type of the result.\n",
    "# then generate 5 random integer between 1 and 21 inclusive and print the type of the result.\n",
    "\n",
    "print(type(np.random.randint(10)))\n",
    "print(type(np.random.randint(1, 21, 5)))"
   ]
  },
  {
   "cell_type": "code",
   "execution_count": 11,
   "metadata": {},
   "outputs": [
    {
     "data": {
      "image/png": "[encoded data removed]",
      "text/plain": [
       "<Figure size 432x288 with 1 Axes>"
      ]
     },
     "metadata": {
      "needs_background": "light"
     },
     "output_type": "display_data"
    }
   ],
   "source": [
    "# Exercise 5.5\n",
    "# PLot a histogram of the array from random integer exercise 5.4\n",
    "\n",
    "import matplotlib.pyplot as plt\n",
    "\n",
    "plt.hist(np.random.randint(1, 21, 5));"
   ]
  },
  {
   "cell_type": "code",
   "execution_count": 12,
   "metadata": {},
   "outputs": [
    {
     "name": "stdout",
     "output_type": "stream",
     "text": [
      "[[-0.21038332 -0.31556856 -1.04885462]\n",
      " [-0.0503647  -0.31335769  0.60855008]]\n"
     ]
    }
   ],
   "source": [
    "# Exercise 5.6\n",
    "# Generate and print a matrix (2D array) or random normals of shape 2x3.\n",
    "\n",
    "print(np.random.randn(2, 3))"
   ]
  },
  {
   "cell_type": "code",
   "execution_count": 13,
   "metadata": {},
   "outputs": [
    {
     "name": "stdout",
     "output_type": "stream",
     "text": [
      "[[-3.10063177  0.74490936  0.6936016 ]\n",
      " [-0.36274836  0.09264356  2.53422992]]\n"
     ]
    }
   ],
   "source": [
    "# Exercise 5.7\n",
    "# Multiply the 2x3 matrix from exercise 5.6 by 2.\n",
    "\n",
    "print(np.random.randn(2, 3) * 2)"
   ]
  },
  {
   "cell_type": "code",
   "execution_count": 14,
   "metadata": {},
   "outputs": [
    {
     "name": "stdout",
     "output_type": "stream",
     "text": [
      "[[-1.19634539 -0.47990267  5.69547406]\n",
      " [-2.1385518   2.6705028  -0.41663789]]\n"
     ]
    }
   ],
   "source": [
    "# Exercise 5.8\n",
    "# Add the 2x3 matrix from exercise 5.6 to the 2x3 matrix from exercise 5.7.\n",
    "\n",
    "print(np.random.randn(2, 3) + np.random.randn(2, 3) * 2)"
   ]
  },
  {
   "cell_type": "code",
   "execution_count": 15,
   "metadata": {},
   "outputs": [
    {
     "name": "stdout",
     "output_type": "stream",
     "text": [
      "[[-1.75630666 -0.9813496   0.48173025]\n",
      " [ 3.2819337   1.77573278 -0.43205733]]\n"
     ]
    }
   ],
   "source": [
    "# Exercise 5.9\n",
    "# Now get a matrix of reciprocal values of the 2x3 matrix from exercise 5.6.\n",
    "\n",
    "print(1 / np.random.randn(2, 3))"
   ]
  },
  {
   "cell_type": "code",
   "execution_count": 16,
   "metadata": {},
   "outputs": [
    {
     "name": "stdout",
     "output_type": "stream",
     "text": [
      "[[0. 0. 0. 0.]\n",
      " [0. 0. 0. 0.]]\n",
      "[[1. 1. 1. 1.]\n",
      " [1. 1. 1. 1.]]\n"
     ]
    }
   ],
   "source": [
    "# Exercise 5.10\n",
    "# Create two two-dimensional arrays. \n",
    "# One of 0s and one of 1s.\n",
    "# Both of shape 2x4.\n",
    "\n",
    "print(np.zeros((2, 4)))\n",
    "print(np.ones((2, 4)))"
   ]
  },
  {
   "cell_type": "code",
   "execution_count": 19,
   "metadata": {},
   "outputs": [
    {
     "name": "stdout",
     "output_type": "stream",
     "text": [
      "[[1. 0. 0. 0.]\n",
      " [0. 1. 0. 0.]\n",
      " [0. 0. 1. 0.]\n",
      " [0. 0. 0. 1.]]\n"
     ]
    }
   ],
   "source": [
    "# Exercise 5.11\n",
    "# Create and identity matrix of shape 4x4.\n",
    "\n",
    "print(np.eye(4))"
   ]
  },
  {
   "cell_type": "code",
   "execution_count": 20,
   "metadata": {},
   "outputs": [
    {
     "name": "stdout",
     "output_type": "stream",
     "text": [
      "[ 0.92319921  1.32012845 -0.27372857]\n",
      "[ 0.92319921  1.32012845 -0.27372857]\n"
     ]
    }
   ],
   "source": [
    "# Exercise 5.12\n",
    "# Generate a vector of random numbers of length 5.\n",
    "# Print a slice tat consists of 3 elements, beginning with the second element.\n",
    "# Then print a slice that excludes the first and last element.\n",
    "\n",
    "vec = np.random.randn(5)\n",
    "print(vec[1:4])\n",
    "print(vec[1:-1])"
   ]
  },
  {
   "cell_type": "code",
   "execution_count": 22,
   "metadata": {},
   "outputs": [
    {
     "name": "stdout",
     "output_type": "stream",
     "text": [
      "[0.92319921 1.32012845]\n"
     ]
    }
   ],
   "source": [
    "# Exercise 5.13\n",
    "# From the vector in exercise 5.12, select all the elements that are greater than 5.\n",
    "# What is it called when you do this?\n",
    "\n",
    "print(vec[vec > .5])\n",
    "# It is called boolean indexing."
   ]
  },
  {
   "cell_type": "code",
   "execution_count": 23,
   "metadata": {},
   "outputs": [
    {
     "name": "stdout",
     "output_type": "stream",
     "text": [
      "[[ 1.77659947 -0.08185937]\n",
      " [ 1.88084058  0.89168529]]\n"
     ]
    }
   ],
   "source": [
    "# Exercise 5.14\n",
    "# JGenerate a 2D array of random numbers with a shape of 3x3.\n",
    "# Then select all the rows but the first, and all the columns but the last.\n",
    "\n",
    "arr = np.random.randn(3, 3)\n",
    "print(arr[1:, :-1])"
   ]
  },
  {
   "cell_type": "code",
   "execution_count": null,
   "metadata": {},
   "outputs": [],
   "source": []
  }
 ],
 "metadata": {
  "kernelspec": {
   "display_name": "base",
   "language": "python",
   "name": "python3"
  },
  "language_info": {
   "codemirror_mode": {
    "name": "ipython",
    "version": 3
   },
   "file_extension": ".py",
   "mimetype": "text/x-python",
   "name": "python",
   "nbconvert_exporter": "python",
   "pygments_lexer": "ipython3",
   "version": "3.8.8"
  }
 },
 "nbformat": 4,
 "nbformat_minor": 2
}
