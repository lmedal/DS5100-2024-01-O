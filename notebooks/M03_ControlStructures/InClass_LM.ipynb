{
 "cells": [
  {
   "cell_type": "code",
   "execution_count": null,
   "metadata": {},
   "outputs": [],
   "source": [
    "# In-class 02/06/2024\n",
    "# Lionel Medal\n",
    "# 3.1\n",
    "# Will print Nothing "
   ]
  },
  {
   "cell_type": "code",
   "execution_count": 4,
   "metadata": {},
   "outputs": [
    {
     "name": "stdout",
     "output_type": "stream",
     "text": [
      "-2\n",
      "8\n",
      "0\n",
      "5\n",
      "6\n"
     ]
    }
   ],
   "source": [
    "#3.2\n",
    "xx = [-2,8,0,5,6]\n",
    "\n",
    "# compute the maximum, storing in max_val\n",
    "max_val = max(xx)\n",
    "\n",
    "# Loop over each value in the list\n",
    "for value in xx:\n",
    "    if value < max_val:\n",
    "        print(value)\n",
    "    else:\n",
    "        print(max_val)"
   ]
  },
  {
   "cell_type": "code",
   "execution_count": 6,
   "metadata": {},
   "outputs": [
    {
     "name": "stdout",
     "output_type": "stream",
     "text": [
      "0\n",
      "10\n",
      "20\n",
      "30\n",
      "40\n",
      "50\n",
      "60\n",
      "70\n",
      "80\n",
      "90\n"
     ]
    }
   ],
   "source": [
    "#3.3\n",
    "\n",
    "# sets s variable \"it\" to 0\n",
    "# sets s variable \"max_iter\" to 100\n",
    "# while is < max_iter, does the following:\n",
    "# if it equals 0 or it is divisible by 10, prints it\n",
    "# increases it by 1\n",
    "# whe it >= max_iter, the program should quit\n",
    "\n",
    "it = 0\n",
    "max_iter = 100\n",
    "\n",
    "while it < max_iter:\n",
    "    if it == 0 or it % 10 == 0:\n",
    "        print(it)\n",
    "    it += 1"
   ]
  },
  {
   "cell_type": "code",
   "execution_count": 7,
   "metadata": {},
   "outputs": [
    {
     "name": "stdout",
     "output_type": "stream",
     "text": [
      "miguel\n",
      "luis\n",
      "carlos\n",
      "jose\n"
     ]
    }
   ],
   "source": [
    "# 3.4\n",
    "\n",
    "# create a list o four strings that are capitalized proper nouns \n",
    "# write a for loop to iterate over the strings and:\n",
    "# lowercase the string\n",
    "# print the string\n",
    "\n",
    "names = ['Miguel', 'Luis', 'Carlos', 'Jose']\n",
    "\n",
    "for name in names:\n",
    "    print(name.lower())\n",
    "    "
   ]
  },
  {
   "cell_type": "code",
   "execution_count": 8,
   "metadata": {},
   "outputs": [
    {
     "name": "stdout",
     "output_type": "stream",
     "text": [
      "Miguel\n",
      "Luis\n",
      "Carlos\n",
      "Jose\n"
     ]
    }
   ],
   "source": [
    "# 3.5\n",
    "\n",
    "# user iter() and next() to iterate over the list of strings from 3.4\n",
    "# print the strings\n",
    "\n",
    "it = iter(names)\n",
    "print(next(it))\n",
    "print(next(it))\n",
    "print(next(it))\n",
    "print(next(it))"
   ]
  },
  {
   "cell_type": "code",
   "execution_count": 9,
   "metadata": {},
   "outputs": [
    {
     "name": "stdout",
     "output_type": "stream",
     "text": [
      "New York 10001\n",
      "Los Angeles 90001\n"
     ]
    }
   ],
   "source": [
    "# 3.6\n",
    "# create a dictionary with the following key-value pairs:\n",
    "# city: New York and zipcode: 10001 for two different cities\n",
    "\n",
    "cities = {'New York': 10001, 'Los Angeles': 90001}\n",
    "\n",
    "for cit, zi in cities.items():\n",
    "    print(cit, zi)\n"
   ]
  },
  {
   "cell_type": "code",
   "execution_count": null,
   "metadata": {},
   "outputs": [],
   "source": []
  }
 ],
 "metadata": {
  "kernelspec": {
   "display_name": "base",
   "language": "python",
   "name": "python3"
  },
  "language_info": {
   "codemirror_mode": {
    "name": "ipython",
    "version": 3
   },
   "file_extension": ".py",
   "mimetype": "text/x-python",
   "name": "python",
   "nbconvert_exporter": "python",
   "pygments_lexer": "ipython3",
   "version": "3.8.8"
  }
 },
 "nbformat": 4,
 "nbformat_minor": 2
}
