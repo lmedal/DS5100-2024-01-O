{
 "cells": [
  {
   "cell_type": "markdown",
   "id": "88cc5cf4-234c-4a33-b131-cb06b82b1198",
   "metadata": {},
   "source": [
    "## In-class 01/30/2024 - Lionel Medal"
   ]
  },
  {
   "cell_type": "markdown",
   "id": "21aeb480-4cbc-4bb8-b734-5bf43174e3d4",
   "metadata": {},
   "source": [
    "### String with length >= 6"
   ]
  },
  {
   "cell_type": "code",
   "execution_count": null,
   "id": "9b50dd31-482b-4da0-a39c-5e6c32dd9b97",
   "metadata": {},
   "outputs": [],
   "source": [
    "long_string = 'Some very long string'\n",
    "print(len(long_string))\n",
    "print(long_string[:3])\n",
    "print(long_string[-3:])"
   ]
  },
  {
   "cell_type": "markdown",
   "id": "fa9c9f5d-b450-4049-ad8f-ee3a902a270e",
   "metadata": {},
   "source": [
    "### New List and assign three values"
   ]
  },
  {
   "cell_type": "code",
   "execution_count": null,
   "id": "fc3720ff-4005-44bd-b629-a6d2f0fb83a0",
   "metadata": {},
   "outputs": [],
   "source": [
    "new_list = []\n",
    "new_list.append(1)\n",
    "new_list.append(2)\n",
    "new_list.append(3)\n",
    "print(new_list[1])"
   ]
  },
  {
   "cell_type": "markdown",
   "id": "507043d6-13f3-437b-85d9-3dfac9775ffd",
   "metadata": {},
   "source": [
    "### Create tuble with 3 values "
   ]
  },
  {
   "cell_type": "code",
   "execution_count": null,
   "id": "2312db6b-b8a0-470d-b895-ce30b0b91ae6",
   "metadata": {},
   "outputs": [],
   "source": [
    "some_tuple = (1,2,3)\n",
    "some_tuple.append('4')"
   ]
  },
  {
   "cell_type": "markdown",
   "id": "c60909fa-7635-4e54-a7cc-d9766f9a910d",
   "metadata": {},
   "source": [
    "### String value to a scalar variable"
   ]
  },
  {
   "cell_type": "code",
   "execution_count": null,
   "id": "c50b89b0-ecf6-475d-a66a-d25ac5b543d4",
   "metadata": {},
   "outputs": [],
   "source": [
    "val = {}\n",
    "level = {'WARN', 'ERROR', 'CRITICAL'}"
   ]
  }
 ],
 "metadata": {
  "kernelspec": {
   "display_name": "",
   "name": ""
  },
  "language_info": {
   "name": ""
  }
 },
 "nbformat": 4,
 "nbformat_minor": 5
}
